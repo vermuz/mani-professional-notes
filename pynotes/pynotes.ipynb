{
 "cells": [
  {
   "cell_type": "markdown",
   "metadata": {},
   "source": [
    "## *args and **kwargs\n",
    "\n",
    "- *args and **kwargs allow you to pass a variable number of arguments to a function.\n",
    "- *args is used to send a non-keyworded variable length argument list to the function.\n",
    "- **kwargs allows you to pass keyworded variable length of arguments to a function."
   ]
  },
  {
   "cell_type": "code",
   "execution_count": 1,
   "metadata": {},
   "outputs": [
    {
     "name": "stdout",
     "output_type": "stream",
     "text": [
      "first normal arg: yasoob\n",
      "another arg through *argv: python\n",
      "another arg through *argv: eggs\n",
      "another arg through *argv: test\n"
     ]
    }
   ],
   "source": [
    "def test_var_args(f_arg, *argv):\n",
    "    print(\"first normal arg:\", f_arg)\n",
    "    for arg in argv:\n",
    "        print(\"another arg through *argv:\", arg)\n",
    "test_var_args('yasoob', 'python', 'eggs', 'test')"
   ]
  },
  {
   "cell_type": "markdown",
   "metadata": {},
   "source": [
    "## Debugging"
   ]
  },
  {
   "cell_type": "code",
   "execution_count": 4,
   "metadata": {},
   "outputs": [],
   "source": [
    "## $ python -m pdb my_script.py"
   ]
  },
  {
   "cell_type": "code",
   "execution_count": null,
   "metadata": {},
   "outputs": [],
   "source": [
    "import pdb\n",
    "\n",
    "def make_bread():\n",
    "    pdb.set_trace()\n",
    "    return \"no time\"\n",
    "\n",
    "#print(make_bread())"
   ]
  },
  {
   "cell_type": "code",
   "execution_count": null,
   "metadata": {},
   "outputs": [],
   "source": [
    "Commands:\n",
    "\n",
    "c: continue execution\n",
    "w: shows the context of the current line it is executing.\n",
    "a: print the argument list of the current function\n",
    "s: Execute the current line and stop at the first possible occasion.\n",
    "n: Continue execution until the next line in the current function is reached or it returns."
   ]
  },
  {
   "cell_type": "markdown",
   "metadata": {},
   "source": [
    "## Iterators\n",
    "\n",
    "### Iterable\n",
    "An iterable is any object in Python which has an iter or a getitem method defined which returns an iterator or can take indexes. In short an iterable is any object which can provide us with an iterator.\n",
    "\n",
    "### Iterator\n",
    "An iterator is any object in Python which has a next (Python2) or next method defined.\n",
    "\n",
    "### Iteration\n",
    "In simple words it is the process of taking an item from something e.g a list. When we use a loop to loop over something it is called iteration. It is the name given to the process itself.\n",
    "\n",
    "### Generators\n",
    "- Generators are iterators, but you can only iterate over them once.\n",
    "- They do not store all the values in memory, they generate the values on the fly.\n",
    "- You use them by iterating over them, either with a ‘for’ loop or by passing them to any function or construct that iterates.\n",
    "- Most of the time generators are implemented as functions. However, they do not return a value, they yield it.\n",
    "- Generators are best for calculating large sets of results where you don’t want to allocate the memory for all results at the same time.\n",
    "- next() allows us to access the next element of a sequence.\n",
    "- iter, it returns an iterator object from an iterable."
   ]
  },
  {
   "cell_type": "code",
   "execution_count": null,
   "metadata": {},
   "outputs": [],
   "source": [
    "def generator_function():\n",
    "    for i in range(10):\n",
    "        yield i\n",
    "\n",
    "for item in generator_function():\n",
    "    print(item)"
   ]
  },
  {
   "cell_type": "code",
   "execution_count": null,
   "metadata": {},
   "outputs": [],
   "source": [
    "def fibon(n):\n",
    "    a = b = 1\n",
    "    result = []\n",
    "    for i in range(n):\n",
    "        result.append(a)\n",
    "        a, b = b, a + b\n",
    "    return result\n",
    "# generator version\n",
    "def fibon(n):\n",
    "    a = b = 1\n",
    "    for i in range(n):\n",
    "        yield a\n",
    "        a, b = b, a + b"
   ]
  },
  {
   "cell_type": "code",
   "execution_count": null,
   "metadata": {},
   "outputs": [],
   "source": [
    "def generator_function():\n",
    "    for i in range(3):\n",
    "        yield i\n",
    "\n",
    "gen = generator_function()\n",
    "print(next(gen))\n",
    "# Output: 0\n",
    "print(next(gen))\n",
    "# Output: 1\n",
    "print(next(gen))\n",
    "# Output: 2\n",
    "print(next(gen))"
   ]
  },
  {
   "cell_type": "code",
   "execution_count": null,
   "metadata": {},
   "outputs": [],
   "source": [
    "int_var = 1779\n",
    "iter(int_var)\n",
    "# Output: Traceback (most recent call last):\n",
    "#   File \"<stdin>\", line 1, in <module>\n",
    "# TypeError: 'int' object is not iterable\n",
    "# This is because int is not iterable\n",
    "\n",
    "my_string = \"Mani\"\n",
    "my_iter = iter(my_string)\n",
    "print(next(my_iter))\n",
    "# Output: 'Y'"
   ]
  },
  {
   "cell_type": "markdown",
   "metadata": {},
   "source": [
    "### Map, Filter and Reduce"
   ]
  },
  {
   "cell_type": "code",
   "execution_count": null,
   "metadata": {},
   "outputs": [],
   "source": [
    "Map applies a function to all the items in an input_list. Here is the blueprint"
   ]
  },
  {
   "cell_type": "code",
   "execution_count": null,
   "metadata": {},
   "outputs": [],
   "source": [
    "items = [1, 2, 3, 4, 5]\n",
    "squared = []\n",
    "for i in items:\n",
    "    squared.append(i**2)"
   ]
  },
  {
   "cell_type": "code",
   "execution_count": 4,
   "metadata": {},
   "outputs": [],
   "source": [
    "items = [1, 2, 3, 4, 5]\n",
    "squared = list(map(lambda x: x**2, items))"
   ]
  },
  {
   "cell_type": "code",
   "execution_count": null,
   "metadata": {},
   "outputs": [],
   "source": [
    "def multiply(x):\n",
    "    return (x*x)\n",
    "def add(x):\n",
    "    return (x+x)\n",
    "\n",
    "funcs = [multiply, add]\n",
    "for i in range(5):\n",
    "    value = list(map(lambda x: x(i), funcs))\n",
    "    print(value)"
   ]
  },
  {
   "cell_type": "code",
   "execution_count": 1,
   "metadata": {},
   "outputs": [
    {
     "name": "stdout",
     "output_type": "stream",
     "text": [
      "[-5, -4, -3, -2, -1]\n"
     ]
    }
   ],
   "source": [
    "number_list = range(-5, 5)\n",
    "less_than_zero = list(filter(lambda x: x < 0, number_list))\n",
    "print(less_than_zero)"
   ]
  },
  {
   "cell_type": "code",
   "execution_count": 6,
   "metadata": {},
   "outputs": [],
   "source": [
    "# Reduce is a really useful function for performing some computation on a list and returning the result."
   ]
  },
  {
   "cell_type": "code",
   "execution_count": 7,
   "metadata": {},
   "outputs": [],
   "source": [
    "product = 1\n",
    "list = [1, 2, 3, 4]\n",
    "for num in list:\n",
    "    product = product * num"
   ]
  },
  {
   "cell_type": "code",
   "execution_count": 8,
   "metadata": {},
   "outputs": [],
   "source": [
    "from functools import reduce\n",
    "product = reduce((lambda x, y: x * y), [1, 2, 3, 4])"
   ]
  },
  {
   "cell_type": "markdown",
   "metadata": {},
   "source": [
    "## set Data Structure\n",
    "\n",
    "set is a really useful data structure. sets behave mostly like lists with the distinction that they can not contain duplicate values."
   ]
  },
  {
   "cell_type": "code",
   "execution_count": 9,
   "metadata": {},
   "outputs": [
    {
     "name": "stdout",
     "output_type": "stream",
     "text": [
      "['b', 'n']\n"
     ]
    }
   ],
   "source": [
    "some_list = ['a', 'b', 'c', 'b', 'd', 'm', 'n', 'n']\n",
    "\n",
    "duplicates = []\n",
    "for value in some_list:\n",
    "    if some_list.count(value) > 1:\n",
    "        if value not in duplicates:\n",
    "            duplicates.append(value)\n",
    "\n",
    "print(duplicates)"
   ]
  },
  {
   "cell_type": "code",
   "execution_count": 10,
   "metadata": {},
   "outputs": [
    {
     "name": "stdout",
     "output_type": "stream",
     "text": [
      "{'b', 'n'}\n"
     ]
    }
   ],
   "source": [
    "some_list = ['a', 'b', 'c', 'b', 'd', 'm', 'n', 'n']\n",
    "duplicates = set([x for x in some_list if some_list.count(x) > 1])\n",
    "print(duplicates)"
   ]
  },
  {
   "cell_type": "code",
   "execution_count": 11,
   "metadata": {},
   "outputs": [
    {
     "name": "stdout",
     "output_type": "stream",
     "text": [
      "{'red'}\n"
     ]
    }
   ],
   "source": [
    "valid = set(['yellow', 'red', 'blue', 'green', 'black'])\n",
    "input_set = set(['red', 'brown'])\n",
    "print(input_set.intersection(valid))"
   ]
  },
  {
   "cell_type": "code",
   "execution_count": 12,
   "metadata": {},
   "outputs": [
    {
     "name": "stdout",
     "output_type": "stream",
     "text": [
      "{'brown'}\n"
     ]
    }
   ],
   "source": [
    "valid = set(['yellow', 'red', 'blue', 'green', 'black'])\n",
    "input_set = set(['red', 'brown'])\n",
    "print(input_set.difference(valid))"
   ]
  },
  {
   "cell_type": "markdown",
   "metadata": {},
   "source": [
    "## Set notation"
   ]
  },
  {
   "cell_type": "code",
   "execution_count": 13,
   "metadata": {},
   "outputs": [
    {
     "name": "stdout",
     "output_type": "stream",
     "text": [
      "<class 'set'>\n"
     ]
    }
   ],
   "source": [
    "a_set = {'red', 'blue', 'green'}\n",
    "print(type(a_set))"
   ]
  },
  {
   "cell_type": "code",
   "execution_count": null,
   "metadata": {},
   "outputs": [],
   "source": []
  }
 ],
 "metadata": {
  "kernelspec": {
   "display_name": "Python 3",
   "language": "python",
   "name": "python3"
  },
  "language_info": {
   "codemirror_mode": {
    "name": "ipython",
    "version": 3
   },
   "file_extension": ".py",
   "mimetype": "text/x-python",
   "name": "python",
   "nbconvert_exporter": "python",
   "pygments_lexer": "ipython3",
   "version": "3.6.5"
  }
 },
 "nbformat": 4,
 "nbformat_minor": 2
}
